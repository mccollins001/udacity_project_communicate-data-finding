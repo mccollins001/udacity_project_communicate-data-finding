{
 "cells": [
  {
   "cell_type": "markdown",
   "id": "a843aca3",
   "metadata": {},
   "source": [
    "# <center>Part I - Exploratory Analysis of Adult Income Dataset</center>\n",
    "### <center>by</center>\n",
    "\n",
    "## <center>Chukwudi Collins Ozoede</center>\n",
    "\n",
    "## Introduction\n",
    "> The US Adult income dataset is a repository of 48,842 entries extracted from the 1994 US Census database. \n",
    "It contains 15 columns before cleaning. Below are the columns and their meaning:\n",
    "\n",
    "### The Dataset\n",
    "- **age:** the age of an individual\n",
    "- **workclass:** a general term to represent the employment status of an individual\n",
    "- **fnlwgt:** final weight. In other words, this is the number of people the census believesthe entry represents..\n",
    "- **education:** the highest level of education achieved by an individual.\n",
    "- **education-num:** the highest level of education achieved in numerical form.\n",
    "- **marital-status:** marital status of an individual.\n",
    "- **occupation:** the general type of occupation of an individual\n",
    "- **relationship:** represents what this individual is relative to others. \n",
    "- **race:** Descriptions of an individual’s race\n",
    "- **sex:** the biological sex of the individual\n",
    "- **capital-gain:** capital gains for an individual\n",
    "- **capital-loss:** capital loss for an individual\n",
    "- **hours-per-week**: the hours an individual has reported to work per week\n",
    "- **native-country:** country of origin for an individual\n",
    "- **Salary:** whether or not an individual makes more than $50,000 annually.\n"
   ]
  },
  {
   "cell_type": "code",
   "execution_count": null,
   "id": "f66247e2",
   "metadata": {},
   "outputs": [],
   "source": [
    "# import all packages and set plots to be embedded inline\n",
    "import numpy as np\n",
    "import pandas as pd\n",
    "import matplotlib.pyplot as plt\n",
    "import seaborn as sb\n",
    "\n",
    "%matplotlib inline"
   ]
  }
 ],
 "metadata": {
  "kernelspec": {
   "display_name": "Python 3",
   "language": "python",
   "name": "python3"
  },
  "language_info": {
   "codemirror_mode": {
    "name": "ipython",
    "version": 3
   },
   "file_extension": ".py",
   "mimetype": "text/x-python",
   "name": "python",
   "nbconvert_exporter": "python",
   "pygments_lexer": "ipython3",
   "version": "3.8.8"
  }
 },
 "nbformat": 4,
 "nbformat_minor": 5
}
